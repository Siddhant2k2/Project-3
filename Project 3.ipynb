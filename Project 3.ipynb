{
 "cells": [
  {
   "cell_type": "markdown",
   "id": "275acfa6",
   "metadata": {},
   "source": [
    "# CASE STUDY "
   ]
  },
  {
   "cell_type": "markdown",
   "id": "4fd5605e",
   "metadata": {},
   "source": [
    "## This dataset contains information about Indian startups from Jan 2015 to Aug 2017\n",
    "\n",
    "#### Feature Details are :-\n",
    "- SNo - Serial Number\n",
    "- Date - Date of funding in the format DD/MM/YYYY\n",
    "- StartupName - Name of the Startup that is funded\n",
    "- IndustryVertical - Industry to which startup belongs \n",
    "- SubVertical - Sub-category of the industry type\n",
    "- CityLocation - City which the startup is based out of\n",
    "- InvestorsName - Name of the investors involved in funding round\n",
    "- InvestmentType - \tEither private equity or seed funding\n",
    "- AmountInUSD - Funding amount in USD\n",
    "- Remarks - Other information if any"
   ]
  },
  {
   "cell_type": "markdown",
   "id": "c7b32b05",
   "metadata": {},
   "source": [
    "## INSIGHTS\n",
    "- What types of startups are getting funded in last few years\n",
    "- Who are the important investors\n",
    "- Which fields received maximum fundings recently"
   ]
  },
  {
   "cell_type": "markdown",
   "id": "aac3193b",
   "metadata": {},
   "source": [
    "### Importing the libraries and loading the dataset"
   ]
  },
  {
   "cell_type": "code",
   "execution_count": 2,
   "id": "f82ee16b",
   "metadata": {},
   "outputs": [
    {
     "data": {
      "text/html": [
       "<div>\n",
       "<style scoped>\n",
       "    .dataframe tbody tr th:only-of-type {\n",
       "        vertical-align: middle;\n",
       "    }\n",
       "\n",
       "    .dataframe tbody tr th {\n",
       "        vertical-align: top;\n",
       "    }\n",
       "\n",
       "    .dataframe thead th {\n",
       "        text-align: right;\n",
       "    }\n",
       "</style>\n",
       "<table border=\"1\" class=\"dataframe\">\n",
       "  <thead>\n",
       "    <tr style=\"text-align: right;\">\n",
       "      <th></th>\n",
       "      <th>SNo</th>\n",
       "      <th>Date</th>\n",
       "      <th>StartupName</th>\n",
       "      <th>IndustryVertical</th>\n",
       "      <th>SubVertical</th>\n",
       "      <th>CityLocation</th>\n",
       "      <th>InvestorsName</th>\n",
       "      <th>InvestmentType</th>\n",
       "      <th>AmountInUSD</th>\n",
       "      <th>Remarks</th>\n",
       "    </tr>\n",
       "  </thead>\n",
       "  <tbody>\n",
       "    <tr>\n",
       "      <th>0</th>\n",
       "      <td>0</td>\n",
       "      <td>01/08/2017</td>\n",
       "      <td>TouchKin</td>\n",
       "      <td>Technology</td>\n",
       "      <td>Predictive Care Platform</td>\n",
       "      <td>Bangalore</td>\n",
       "      <td>Kae Capital</td>\n",
       "      <td>Private Equity</td>\n",
       "      <td>1,300,000</td>\n",
       "      <td>NaN</td>\n",
       "    </tr>\n",
       "    <tr>\n",
       "      <th>1</th>\n",
       "      <td>1</td>\n",
       "      <td>02/08/2017</td>\n",
       "      <td>Ethinos</td>\n",
       "      <td>Technology</td>\n",
       "      <td>Digital Marketing Agency</td>\n",
       "      <td>Mumbai</td>\n",
       "      <td>Triton Investment Advisors</td>\n",
       "      <td>Private Equity</td>\n",
       "      <td>NaN</td>\n",
       "      <td>NaN</td>\n",
       "    </tr>\n",
       "    <tr>\n",
       "      <th>2</th>\n",
       "      <td>2</td>\n",
       "      <td>02/08/2017</td>\n",
       "      <td>Leverage Edu</td>\n",
       "      <td>Consumer Internet</td>\n",
       "      <td>Online platform for Higher Education Services</td>\n",
       "      <td>New Delhi</td>\n",
       "      <td>Kashyap Deorah, Anand Sankeshwar, Deepak Jain,...</td>\n",
       "      <td>Seed Funding</td>\n",
       "      <td>NaN</td>\n",
       "      <td>NaN</td>\n",
       "    </tr>\n",
       "    <tr>\n",
       "      <th>3</th>\n",
       "      <td>3</td>\n",
       "      <td>02/08/2017</td>\n",
       "      <td>Zepo</td>\n",
       "      <td>Consumer Internet</td>\n",
       "      <td>DIY Ecommerce platform</td>\n",
       "      <td>Mumbai</td>\n",
       "      <td>Kunal Shah, LetsVenture, Anupam Mittal, Hetal ...</td>\n",
       "      <td>Seed Funding</td>\n",
       "      <td>500,000</td>\n",
       "      <td>NaN</td>\n",
       "    </tr>\n",
       "    <tr>\n",
       "      <th>4</th>\n",
       "      <td>4</td>\n",
       "      <td>02/08/2017</td>\n",
       "      <td>Click2Clinic</td>\n",
       "      <td>Consumer Internet</td>\n",
       "      <td>healthcare service aggregator</td>\n",
       "      <td>Hyderabad</td>\n",
       "      <td>Narottam Thudi, Shireesh Palle</td>\n",
       "      <td>Seed Funding</td>\n",
       "      <td>850,000</td>\n",
       "      <td>NaN</td>\n",
       "    </tr>\n",
       "    <tr>\n",
       "      <th>...</th>\n",
       "      <td>...</td>\n",
       "      <td>...</td>\n",
       "      <td>...</td>\n",
       "      <td>...</td>\n",
       "      <td>...</td>\n",
       "      <td>...</td>\n",
       "      <td>...</td>\n",
       "      <td>...</td>\n",
       "      <td>...</td>\n",
       "      <td>...</td>\n",
       "    </tr>\n",
       "    <tr>\n",
       "      <th>2367</th>\n",
       "      <td>2367</td>\n",
       "      <td>29/01/2015</td>\n",
       "      <td>Printvenue</td>\n",
       "      <td>NaN</td>\n",
       "      <td>NaN</td>\n",
       "      <td>NaN</td>\n",
       "      <td>Asia Pacific Internet Group</td>\n",
       "      <td>Private Equity</td>\n",
       "      <td>4,500,000</td>\n",
       "      <td>NaN</td>\n",
       "    </tr>\n",
       "    <tr>\n",
       "      <th>2368</th>\n",
       "      <td>2368</td>\n",
       "      <td>29/01/2015</td>\n",
       "      <td>Graphene</td>\n",
       "      <td>NaN</td>\n",
       "      <td>NaN</td>\n",
       "      <td>NaN</td>\n",
       "      <td>KARSEMVEN Fund</td>\n",
       "      <td>Private Equity</td>\n",
       "      <td>825,000</td>\n",
       "      <td>Govt backed VC Fund</td>\n",
       "    </tr>\n",
       "    <tr>\n",
       "      <th>2369</th>\n",
       "      <td>2369</td>\n",
       "      <td>30/01/2015</td>\n",
       "      <td>Mad Street Den</td>\n",
       "      <td>NaN</td>\n",
       "      <td>NaN</td>\n",
       "      <td>NaN</td>\n",
       "      <td>Exfinity Fund, GrowX Ventures.</td>\n",
       "      <td>Private Equity</td>\n",
       "      <td>1,500,000</td>\n",
       "      <td>NaN</td>\n",
       "    </tr>\n",
       "    <tr>\n",
       "      <th>2370</th>\n",
       "      <td>2370</td>\n",
       "      <td>30/01/2015</td>\n",
       "      <td>Simplotel</td>\n",
       "      <td>NaN</td>\n",
       "      <td>NaN</td>\n",
       "      <td>NaN</td>\n",
       "      <td>MakeMyTrip</td>\n",
       "      <td>Private Equity</td>\n",
       "      <td>NaN</td>\n",
       "      <td>Strategic Funding, Minority stake</td>\n",
       "    </tr>\n",
       "    <tr>\n",
       "      <th>2371</th>\n",
       "      <td>2371</td>\n",
       "      <td>31/01/2015</td>\n",
       "      <td>couponmachine.in</td>\n",
       "      <td>NaN</td>\n",
       "      <td>NaN</td>\n",
       "      <td>NaN</td>\n",
       "      <td>UK based Group of Angel Investors</td>\n",
       "      <td>Seed Funding</td>\n",
       "      <td>140,000</td>\n",
       "      <td>NaN</td>\n",
       "    </tr>\n",
       "  </tbody>\n",
       "</table>\n",
       "<p>2372 rows × 10 columns</p>\n",
       "</div>"
      ],
      "text/plain": [
       "       SNo        Date       StartupName   IndustryVertical  \\\n",
       "0        0  01/08/2017          TouchKin         Technology   \n",
       "1        1  02/08/2017           Ethinos         Technology   \n",
       "2        2  02/08/2017      Leverage Edu  Consumer Internet   \n",
       "3        3  02/08/2017              Zepo  Consumer Internet   \n",
       "4        4  02/08/2017      Click2Clinic  Consumer Internet   \n",
       "...    ...         ...               ...                ...   \n",
       "2367  2367  29/01/2015        Printvenue                NaN   \n",
       "2368  2368  29/01/2015          Graphene                NaN   \n",
       "2369  2369  30/01/2015    Mad Street Den                NaN   \n",
       "2370  2370  30/01/2015         Simplotel                NaN   \n",
       "2371  2371  31/01/2015  couponmachine.in                NaN   \n",
       "\n",
       "                                        SubVertical CityLocation  \\\n",
       "0                          Predictive Care Platform    Bangalore   \n",
       "1                          Digital Marketing Agency       Mumbai   \n",
       "2     Online platform for Higher Education Services    New Delhi   \n",
       "3                            DIY Ecommerce platform       Mumbai   \n",
       "4                     healthcare service aggregator    Hyderabad   \n",
       "...                                             ...          ...   \n",
       "2367                                            NaN          NaN   \n",
       "2368                                            NaN          NaN   \n",
       "2369                                            NaN          NaN   \n",
       "2370                                            NaN          NaN   \n",
       "2371                                            NaN          NaN   \n",
       "\n",
       "                                          InvestorsName  InvestmentType  \\\n",
       "0                                           Kae Capital  Private Equity   \n",
       "1                            Triton Investment Advisors  Private Equity   \n",
       "2     Kashyap Deorah, Anand Sankeshwar, Deepak Jain,...    Seed Funding   \n",
       "3     Kunal Shah, LetsVenture, Anupam Mittal, Hetal ...    Seed Funding   \n",
       "4                        Narottam Thudi, Shireesh Palle    Seed Funding   \n",
       "...                                                 ...             ...   \n",
       "2367                        Asia Pacific Internet Group  Private Equity   \n",
       "2368                                     KARSEMVEN Fund  Private Equity   \n",
       "2369                     Exfinity Fund, GrowX Ventures.  Private Equity   \n",
       "2370                                         MakeMyTrip  Private Equity   \n",
       "2371                  UK based Group of Angel Investors    Seed Funding   \n",
       "\n",
       "     AmountInUSD                            Remarks  \n",
       "0      1,300,000                                NaN  \n",
       "1            NaN                                NaN  \n",
       "2            NaN                                NaN  \n",
       "3        500,000                                NaN  \n",
       "4        850,000                                NaN  \n",
       "...          ...                                ...  \n",
       "2367   4,500,000                                NaN  \n",
       "2368     825,000                Govt backed VC Fund  \n",
       "2369   1,500,000                                NaN  \n",
       "2370         NaN  Strategic Funding, Minority stake  \n",
       "2371     140,000                                NaN  \n",
       "\n",
       "[2372 rows x 10 columns]"
      ]
     },
     "execution_count": 2,
     "metadata": {},
     "output_type": "execute_result"
    }
   ],
   "source": [
    "import pandas as pd\n",
    "import numpy as np\n",
    "import matplotlib.pyplot as plt\n",
    "startup = pd.read_csv(\"startup_funding.csv\")\n",
    "startup"
   ]
  },
  {
   "cell_type": "markdown",
   "id": "2e60bf75",
   "metadata": {},
   "source": [
    "### 1. To check the trend of investments over the years \n",
    "- Here is a line plot between year and no. of funding received"
   ]
  },
  {
   "cell_type": "code",
   "execution_count": 3,
   "id": "c2438b51",
   "metadata": {},
   "outputs": [
    {
     "data": {
      "image/png": "[encoded data removed]",
      "text/plain": [
       "<Figure size 432x288 with 1 Axes>"
      ]
     },
     "metadata": {
      "needs_background": "light"
     },
     "output_type": "display_data"
    },
    {
     "name": "stdout",
     "output_type": "stream",
     "text": [
      "2015 936\n",
      "2016 993\n",
      "2017 443\n"
     ]
    }
   ],
   "source": [
    "# Data cleaning \n",
    "date = startup[\"Date\"]\n",
    "year = [] #To store the year from each date\n",
    "for i in date:\n",
    "    str1 = i\n",
    "    year.append(str1[len(str1)-4:len(str1):1])    \n",
    "startup[\"Year\"] = year\n",
    "val = startup[\"Year\"].value_counts(ascending=True)\n",
    "xaxis = np.sort(val.index) # To store the year in ascending order\n",
    "value = []\n",
    "# Plotting the line graph\n",
    "for i in xaxis:\n",
    "    value.append(val.loc[i])\n",
    "plt.plot(xaxis,value,color=\"Green\",marker=\"o\")\n",
    "plt.show()\n",
    "for i in range(len(val)):\n",
    "    print(xaxis[i],val.loc[xaxis[i]])"
   ]
  },
  {
   "cell_type": "markdown",
   "id": "97ee888c",
   "metadata": {},
   "source": [
    "### 2. To find out which cities are generally chosen for startups \n",
    "- Plotting a pie chart of for the top 10 indian cities preferred for startup with percentage of startups in each of these city"
   ]
  },
  {
   "cell_type": "code",
   "execution_count": 4,
   "id": "4753b480",
   "metadata": {},
   "outputs": [
    {
     "data": {
      "image/png": "[encoded data removed]",
      "text/plain": [
       "<Figure size 432x288 with 1 Axes>"
      ]
     },
     "metadata": {},
     "output_type": "display_data"
    },
    {
     "name": "stdout",
     "output_type": "stream",
     "text": [
      "bangalore 630\n",
      "mumbai 446\n",
      "new delhi 386\n",
      "gurgaon 240\n",
      "pune 85\n",
      "noida 78\n",
      "hyderabad 77\n",
      "chennai 67\n",
      "ahmedabad 35\n",
      "jaipur 25\n",
      "kolkata 19\n"
     ]
    }
   ],
   "source": [
    "# startup.dropna(inplace=True)\n",
    "city = np.array(startup[\"CityLocation\"])\n",
    "city_n = []\n",
    "for i in city:\n",
    "    st1 = str(i).split('/')\n",
    "    if st1[0]!=\"nan\":\n",
    "        c = st1[0].lower()\n",
    "    else:\n",
    "        c = np.nan\n",
    "    if c ==\"delhi\":\n",
    "        c = \"new delhi\"\n",
    "    city_n.append(c)\n",
    "startup[\"City\"] = city_n\n",
    "# startup.City.fillna(\"Ghaziabad\",inplace=True)\n",
    "city_name = startup[\"City\"].value_counts(dropna=True).index[0:11]\n",
    "city_no = startup[\"City\"].value_counts().values[0:11]\n",
    "plt.pie(city_no,labels=city_name,autopct=\"%.1f%%\")\n",
    "plt.axis(\"equal\")\n",
    "plt.show()\n",
    "for i in range(len(city_name)):\n",
    "    print(city_name[i],city_no[i])"
   ]
  },
  {
   "cell_type": "markdown",
   "id": "94a296e3",
   "metadata": {},
   "source": [
    "### 3. To Find out if cities play important role in receiving funding\n",
    "- Plotting a pie chart of top 10 Indian cities and the percentage of funding they received from total funding"
   ]
  },
  {
   "cell_type": "code",
   "execution_count": 5,
   "id": "ec64841e",
   "metadata": {
    "scrolled": false
   },
   "outputs": [
    {
     "data": {
      "image/png": "[encoded data removed]",
      "text/plain": [
       "<Figure size 432x288 with 1 Axes>"
      ]
     },
     "metadata": {},
     "output_type": "display_data"
    },
    {
     "name": "stdout",
     "output_type": "stream",
     "text": [
      "bangalore 8422974108\n",
      "new delhi 2818247500\n",
      "mumbai 2354934500\n",
      "gurgaon 2069021500\n",
      "chennai 411105000\n",
      "pune 366653000\n",
      "hyderabad 195362000\n",
      "noida 170638000\n",
      "ahmedabad 98186000\n",
      "jaipur 35560000\n",
      "india 30000000\n"
     ]
    }
   ],
   "source": [
    "# Do city places an important role in getting funding\n",
    "startup[\"AmountInUSD\"].fillna(\"0\",inplace=True)\n",
    "paisa = np.array(startup[\"AmountInUSD\"])\n",
    "startup[\"City\"].fillna(\"0\",inplace=True)\n",
    "city = np.array(startup[\"City\"])\n",
    "for i in range(len(paisa)):\n",
    "    st = paisa[i].split(',')\n",
    "    st1 = \"\"\n",
    "    for j in range(len(st)):\n",
    "        st1 = st1+st[j]\n",
    "    paisa[i] = st1    \n",
    "funding = {}\n",
    "for i in range(len(startup[\"AmountInUSD\"])):\n",
    "    key = city[i]\n",
    "    if key[len(key)-1]==\" \":\n",
    "        key = key[:len(key)-1]\n",
    "    if key!=\"0\":\n",
    "        val = paisa[i]\n",
    "        funding[key] = funding.get(key,0)+int(val)\n",
    "sort = sorted(funding.items(),key=lambda x:x[1],reverse=True)     \n",
    "req = np.array(sort[:11])\n",
    "cities = req[0:11,0]\n",
    "fund = req[0:11,1]\n",
    "plt.pie(fund,labels=cities,autopct=\"%.1f%%\")\n",
    "plt.axis(\"equal\")\n",
    "plt.show()\n",
    "for i in range(11):\n",
    "    print(sort[i][0],sort[i][1])"
   ]
  },
  {
   "cell_type": "markdown",
   "id": "6bb4c0c5",
   "metadata": {},
   "source": [
    "### 4. To find out the percentage of amount funded in each of investment type\n",
    "- Plotting a pie chart to this distribution"
   ]
  },
  {
   "cell_type": "code",
   "execution_count": 8,
   "id": "5ef446fc",
   "metadata": {},
   "outputs": [
    {
     "name": "stdout",
     "output_type": "stream",
     "text": [
      "Private Equity 98.15\n",
      "Seed Funding 1.81\n",
      "Debt Funding 0.04\n",
      "Crowd Funding 0.0\n"
     ]
    },
    {
     "data": {
      "image/png": "[encoded data removed]",
      "text/plain": [
       "<Figure size 432x288 with 1 Axes>"
      ]
     },
     "metadata": {},
     "output_type": "display_data"
    }
   ],
   "source": [
    "# startup[\"InvestmentType\"].fillna(\"0\",inplace=True)\n",
    "typ = startup[\"InvestmentType\"]\n",
    "for i in range(len(typ)):\n",
    "    if typ[i]==\"SeedFunding\":\n",
    "        typ[i] = \"Seed Funding\"\n",
    "    elif typ[i]== \"PrivateEquity\":\n",
    "        typ[i] = \"Private Equity\"\n",
    "    elif typ[i]== \"Crowd funding\":\n",
    "        typ[i] = \"Crowd Funding\"\n",
    "expplode = [0,0,2,4]        \n",
    "type_fund = {}\n",
    "sum1 = 0\n",
    "for i in range(len(typ)):\n",
    "    key = str(typ[i])\n",
    "    if key!=\"nan\":\n",
    "        val = paisa[i]\n",
    "        sum1 = sum1 + int(val)\n",
    "        type_fund[key] = type_fund.get(key,0)+int(val)\n",
    "for i in type_fund:\n",
    "    per = (type_fund[i]/sum1)*100\n",
    "    print(i,round(per,2))\n",
    "plt.pie(type_fund.values(),labels = type_fund.keys(),autopct=\"%.2f%%\",explode=expplode,startangle=50)\n",
    "plt.show()"
   ]
  },
  {
   "cell_type": "markdown",
   "id": "541aab83",
   "metadata": {},
   "source": [
    "### Which type of companies are more likely to get funding ?\n",
    "- To answer this question we are going to find out top 5 industries with total amount funded to that industry"
   ]
  },
  {
   "cell_type": "code",
   "execution_count": 45,
   "id": "6886ed75",
   "metadata": {},
   "outputs": [
    {
     "data": {
      "image/png": "[encoded data removed]",
      "text/plain": [
       "<Figure size 432x288 with 1 Axes>"
      ]
     },
     "metadata": {},
     "output_type": "display_data"
    },
    {
     "name": "stdout",
     "output_type": "stream",
     "text": [
      "Ecommerce 38.70\n",
      "Consumer Internet 34.33\n",
      "Technology 9.98\n",
      "Online Marketplace 6.33\n",
      "E-Commerce & M-Commerce platform 6.15\n",
      "Car Aggregator & Retail Mobile App 4.52\n"
     ]
    }
   ],
   "source": [
    "startup.replace(to_replace=\"ecommerce\",value=\"Ecommerce\",inplace=True)\n",
    "startup.replace(to_replace=\"eCommerce\",value=\"Ecommerce\",inplace=True)\n",
    "startup.replace(to_replace=\"ECommerce\",value=\"Ecommerce\",inplace=True)\n",
    "industry = startup[\"IndustryVertical\"]\n",
    "startup[\"AmountInUSD\"].fillna(\"0\",inplace=True)\n",
    "paisa = np.array(startup[\"AmountInUSD\"])\n",
    "company_fund = {}\n",
    "for i in range(len(paisa)):\n",
    "    st = paisa[i].split(',')\n",
    "    st1=\"\"\n",
    "    for j in range(len(st)):\n",
    "        st1 = st1+st[j]\n",
    "    paisa[i] = st1    \n",
    "for i in range(len(industry)):\n",
    "    key = str(industry[i])\n",
    "    if key!=\"nan\":\n",
    "        val = paisa[i]\n",
    "        company_fund[key] = company_fund.get(key,0)+int(val)\n",
    "sort = sorted(company_fund.items(),key = lambda x:x[1],reverse=True) \n",
    "srt = np.array(sort[:6])\n",
    "index = srt[:,0]\n",
    "value = srt[:,1]\n",
    "plt.pie(value,labels=index,autopct=\"%.2f%%\")\n",
    "plt.axis(\"equal\")\n",
    "plt.show()\n",
    "sum1=0\n",
    "for j in range(len(value)):\n",
    "    sum1 = sum1+int(value[j])\n",
    "for i in range(len(index)):\n",
    "    dist = (int(value[i])/sum1)*100\n",
    "    print(index[i],format(dist,\".2f\"))"
   ]
  },
  {
   "cell_type": "markdown",
   "id": "d29129c2",
   "metadata": {},
   "source": [
    "### 4. To find out the top 5 startups with most amount of total funding"
   ]
  },
  {
   "cell_type": "code",
   "execution_count": 14,
   "id": "86022a38",
   "metadata": {
    "scrolled": true
   },
   "outputs": [
    {
     "data": {
      "text/plain": [
       "[('Paytm', 2340000000),\n",
       " ('Flipkart', 2259700000),\n",
       " ('Ola', 1899500000),\n",
       " ('Snapdeal', 700000000),\n",
       " ('Oyo', 637000000),\n",
       " ('Quikr', 230000000)]"
      ]
     },
     "execution_count": 14,
     "metadata": {},
     "output_type": "execute_result"
    }
   ],
   "source": [
    "#Data cleaning using python\n",
    "name = startup[\"StartupName\"]\n",
    "name.replace(to_replace=\"Flipkart.com\",value=\"Flipkart\",inplace=True)\n",
    "name.replace(to_replace=\"Paytm Marketplace\",value=\"Paytm\",inplace=True)\n",
    "name.replace(to_replace=\"Olacabs\",value=\"Ola\",inplace=True)\n",
    "name.replace(to_replace=\"Ola Cabs\",value=\"Ola\",inplace=True)\n",
    "name.replace(to_replace=\"Oyo Rooms\",value=\"Oyo\",inplace=True)\n",
    "name.replace(to_replace=\"OyoRooms\",value=\"Oyo\",inplace=True)\n",
    "name.replace(to_replace=\"OYOfit\",value=\"Oyo\",inplace=True)\n",
    "name.replace(to_replace=\"Oyorooms\",value=\"Oyo\",inplace=True)\n",
    "name.replace(to_replace=\"OYO Rooms\",value=\"Oyo\",inplace=True)\n",
    "d = {}\n",
    "startup[\"AmountInUSD\"].fillna(\"0\",inplace=True)\n",
    "fund = np.array(startup[\"AmountInUSD\"])\n",
    "for i in range(len(fund)):\n",
    "    st = fund[i].split(\",\")\n",
    "    c = \"\"\n",
    "    for j in range(len(st)):\n",
    "        c = c + st[j]\n",
    "    fund[i] = c    \n",
    "for i in range(len(name)):\n",
    "    key = name[i]\n",
    "    val = fund[i]\n",
    "    d[key] = d.get(key,0)+int(val)\n",
    "srt = sorted(d.items(),key = lambda x:x[1],reverse=True)\n",
    "srt[:6]"
   ]
  },
  {
   "cell_type": "markdown",
   "id": "761f9b9c",
   "metadata": {},
   "source": [
    "### 5. To find out top 5 startups who received the fundings most number of times"
   ]
  },
  {
   "cell_type": "code",
   "execution_count": 23,
   "id": "ee8d2322",
   "metadata": {},
   "outputs": [
    {
     "name": "stdout",
     "output_type": "stream",
     "text": [
      "Ola 8\n",
      "Swiggy 7\n",
      "Oyo 6\n",
      "Flipkart 5\n",
      "UrbanClap 5\n",
      "Paytm 4\n"
     ]
    },
    {
     "data": {
      "image/png": "[encoded data removed]",
      "text/plain": [
       "<Figure size 432x288 with 1 Axes>"
      ]
     },
     "metadata": {},
     "output_type": "display_data"
    }
   ],
   "source": [
    "no_fund = {}\n",
    "name = startup[\"StartupName\"]\n",
    "name.replace(to_replace=\"Flipkart.com\",value=\"Flipkart\",inplace=True)\n",
    "name.replace(to_replace=\"Paytm Marketplace\",value=\"Paytm\",inplace=True)\n",
    "name.replace(to_replace=\"Olacabs\",value=\"Ola\",inplace=True)\n",
    "name.replace(to_replace=\"Ola Cabs\",value=\"Ola\",inplace=True)\n",
    "name.replace(to_replace=\"Oyo Rooms\",value=\"Oyo\",inplace=True)\n",
    "name.replace(to_replace=\"OyoRooms\",value=\"Oyo\",inplace=True)\n",
    "name.replace(to_replace=\"OYOfit\",value=\"Oyo\",inplace=True)\n",
    "name.replace(to_replace=\"Oyorooms\",value=\"Oyo\",inplace=True)\n",
    "name.replace(to_replace=\"OYO Rooms\",value=\"Oyo\",inplace=True)\n",
    "for i in range(len(name)):\n",
    "    key = name[i]\n",
    "    val = int(fund[i])\n",
    "    if val!=0:\n",
    "        no_fund[key] = no_fund.get(key,0)+1\n",
    "srt = sorted(no_fund.items(),key = lambda x:x[1],reverse=True)\n",
    "for i in range(6):\n",
    "    print(srt[i][0],srt[i][1])\n",
    "srt = np.array(srt)    \n",
    "index = srt[:6,0]\n",
    "value = srt[:6,1]\n",
    "plt.pie(value,labels=index,autopct=\"%.2f%%\")\n",
    "plt.axis(\"equal\")\n",
    "plt.show()"
   ]
  },
  {
   "cell_type": "markdown",
   "id": "e94172fc",
   "metadata": {},
   "source": [
    "### 6.  To find out the investors who invested maximum number of times\n",
    "- Here are the top 10 investors of this period who invested maximum number of times"
   ]
  },
  {
   "cell_type": "code",
   "execution_count": 70,
   "id": "c76ba808",
   "metadata": {},
   "outputs": [
    {
     "name": "stdout",
     "output_type": "stream",
     "text": [
      "[['Sequoia Capital' '62']\n",
      " ['Accel Partners' '52']\n",
      " ['Kalaari Capital' '43']\n",
      " ['Indian Angel Network' '39']\n",
      " ['Blume Ventures' '38']\n",
      " ['SAIF Partners' '37']\n",
      " ['Ratan Tata' '30']\n",
      " ['Nexus Venture Partners' '24']\n",
      " ['Tiger Global' '24']\n",
      " ['Kae Capital' '22']]\n"
     ]
    }
   ],
   "source": [
    "inv_name = startup[\"InvestorsName\"]\n",
    "inv_name.replace(to_replace=\"Undisclosed investors\",value=\"Undisclosed Investors\",inplace=True)\n",
    "investor = {}\n",
    "ar = []\n",
    "for i in range(len(inv_name)):\n",
    "    ky = inv_name[i]\n",
    "    if ky!=\"Undisclosed Investors\":\n",
    "        st = str(ky).split(\", \")\n",
    "        for j in range(len(st)):\n",
    "            ar.append(st[j])\n",
    "#             investor[st[j]] = investor.get(st[j],0)+1          \n",
    "ar = np.array(ar)           \n",
    "for i in range(len(ar)):\n",
    "    key = ar[i]\n",
    "    investor[key] = investor.get(key,0)+1\n",
    "srt = sorted(investor.items(),key = lambda x:x[1],reverse=True)\n",
    "sort = np.array(srt)\n",
    "print(sort[:10])"
   ]
  }
 ],
 "metadata": {
  "kernelspec": {
   "display_name": "Python 3",
   "language": "python",
   "name": "python3"
  },
  "language_info": {
   "codemirror_mode": {
    "name": "ipython",
    "version": 3
   },
   "file_extension": ".py",
   "mimetype": "text/x-python",
   "name": "python",
   "nbconvert_exporter": "python",
   "pygments_lexer": "ipython3",
   "version": "3.8.8"
  }
 },
 "nbformat": 4,
 "nbformat_minor": 5
}
